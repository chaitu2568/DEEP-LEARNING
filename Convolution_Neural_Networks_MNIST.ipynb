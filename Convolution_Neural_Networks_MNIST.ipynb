{
  "nbformat": 4,
  "nbformat_minor": 0,
  "metadata": {
    "colab": {
      "name": "Convolution-Neural-Networks MNIST.ipynb",
      "version": "0.3.2",
      "provenance": [],
      "collapsed_sections": [],
      "include_colab_link": true
    },
    "kernelspec": {
      "name": "python3",
      "display_name": "Python 3"
    },
    "accelerator": "GPU"
  },
  "cells": [
    {
      "cell_type": "markdown",
      "metadata": {
        "id": "view-in-github",
        "colab_type": "text"
      },
      "source": [
        "<a href=\"https://colab.research.google.com/github/chaitu2568/DEEP-LEARNING/blob/master/Convolution_Neural_Networks_MNIST.ipynb\" target=\"_parent\"><img src=\"https://colab.research.google.com/assets/colab-badge.svg\" alt=\"Open In Colab\"/></a>"
      ]
    },
    {
      "cell_type": "code",
      "metadata": {
        "id": "MSxk1LBjURyy",
        "colab_type": "code",
        "outputId": "805ef60c-d57e-46f5-96ae-1b90f3ef9802",
        "colab": {
          "base_uri": "https://localhost:8080/",
          "height": 119
        }
      },
      "source": [
        "!pip3 install torch torchvision"
      ],
      "execution_count": 45,
      "outputs": [
        {
          "output_type": "stream",
          "text": [
            "Requirement already satisfied: torch in /usr/local/lib/python3.6/dist-packages (1.1.0)\n",
            "Requirement already satisfied: torchvision in /usr/local/lib/python3.6/dist-packages (0.3.0)\n",
            "Requirement already satisfied: numpy in /usr/local/lib/python3.6/dist-packages (from torch) (1.16.4)\n",
            "Requirement already satisfied: pillow>=4.1.1 in /usr/local/lib/python3.6/dist-packages (from torchvision) (4.3.0)\n",
            "Requirement already satisfied: six in /usr/local/lib/python3.6/dist-packages (from torchvision) (1.12.0)\n",
            "Requirement already satisfied: olefile in /usr/local/lib/python3.6/dist-packages (from pillow>=4.1.1->torchvision) (0.46)\n"
          ],
          "name": "stdout"
        }
      ]
    },
    {
      "cell_type": "code",
      "metadata": {
        "id": "P6K6TEYKUYKx",
        "colab_type": "code",
        "colab": {}
      },
      "source": [
        "import torch \n",
        "from torchvision import datasets,transforms\n",
        "import numpy as np\n",
        "import matplotlib.pyplot as plt\n",
        "from torch import nn\n",
        "import torch.nn.functional as F"
      ],
      "execution_count": 0,
      "outputs": []
    },
    {
      "cell_type": "code",
      "metadata": {
        "id": "E_xlrenU2QlF",
        "colab_type": "code",
        "colab": {}
      },
      "source": [
        "device=torch.device('cuda:0' if torch.cuda.is_available() else 'cpu')"
      ],
      "execution_count": 0,
      "outputs": []
    },
    {
      "cell_type": "code",
      "metadata": {
        "id": "I6-hJRhiUwJp",
        "colab_type": "code",
        "colab": {}
      },
      "source": [
        "# Applying the transformations to the data\n",
        "# 1->Numpy to Tensor(returns float values ranging from 0 to 1)\n",
        "# 2->Normalising the values by setting mean=0.5 and sd=0.5 for ColorScale,Width and Height of Image (returns values ranging from (-1,1))\n",
        "\n",
        "transforms=transforms.Compose([transforms.Resize((28,28)),transforms.ToTensor(),transforms.Normalize((0.5,),(0.5,))])\n",
        "# Datasets are taken from the MNIST dataset\n",
        "train_data=datasets.MNIST(root='./imgdata',train=True,download=True,transform=transforms)\n",
        "validation_data=datasets.MNIST(root='./imgdata',train=False,download=True,transform=transforms)\n",
        "# laoding the datasets batch wise for each epoch\n",
        "train_load=torch.utils.data.DataLoader(dataset=train_data,batch_size=100,shuffle=True) #to avoid the Local Minimum\n",
        "validation_load=torch.utils.data.DataLoader(dataset=validation_data,batch_size=100,shuffle=False)"
      ],
      "execution_count": 0,
      "outputs": []
    },
    {
      "cell_type": "code",
      "metadata": {
        "id": "blPE8fueWWew",
        "colab_type": "code",
        "colab": {}
      },
      "source": [
        "# Now to plot the graph covert back into Tensor\n",
        "\n",
        "def img_convert(tensor):\n",
        "#   first cloning and coverting into numpy array\n",
        "  image=tensor.cpu().clone().detach().numpy()\n",
        "#   changing dimensions from 1,28,28 to 28,28,1\n",
        "  image=image.transpose(1,2,0)  \n",
        "#   deNormalizing it by multiplying with sd and adding mean\n",
        "  image=image*np.array((0.5,0.5,0.5))+np.array((0.5,0.5,0.5))\n",
        "#   changing the range from 0 to 1\n",
        "  image=image.clip(0,1)\n",
        "  return image"
      ],
      "execution_count": 0,
      "outputs": []
    },
    {
      "cell_type": "code",
      "metadata": {
        "id": "rcpxbOU8ZPm3",
        "colab_type": "code",
        "outputId": "a2e2acfa-59de-401f-d62c-98a50b9b2d26",
        "colab": {
          "base_uri": "https://localhost:8080/",
          "height": 288
        }
      },
      "source": [
        "\n",
        "dataiter=iter(train_load)\n",
        "images,labels = dataiter.next() #loads 100 batchsize of data for every iteration\n",
        "main=plt.figure(figsize=(25,4))\n",
        "\n",
        "\n",
        "for index in np.arange(20):\n",
        "  ax=main.add_subplot(2,10,index+1,xticks=[], yticks=[])\n",
        "  plt.imshow(img_convert(images[index]))\n",
        "  ax.set_title([labels[index].item()])\n",
        "  \n",
        "  "
      ],
      "execution_count": 50,
      "outputs": [
        {
          "output_type": "display_data",
          "data": {
            "image/png": "[encoded data removed]",
            "text/plain": [
              "<Figure size 1800x288 with 20 Axes>"
            ]
          },
          "metadata": {
            "tags": []
          }
        }
      ]
    },
    {
      "cell_type": "code",
      "metadata": {
        "id": "-vp22ajOa126",
        "colab_type": "code",
        "colab": {}
      },
      "source": [
        "class LeNet(nn.Module):\n",
        "  def __init__(self):\n",
        "    super().__init__()\n",
        "#     Parameters to convolution layer\n",
        "#       first-> No of Input Channels of the Images(Grey Scale Image Size = 1)\n",
        "#         Second-> Depth of Filters (feature Maps)\n",
        "#           Third-> Size of the Kernel Passed\n",
        "#             four-> Strip Size (rate of movement at the time of convolutions)\n",
        "\n",
        "    self.conv1=nn.Conv2d(1,20,5,1)\n",
        "    self.conv2=nn.Conv2d(20,50,5,1)\n",
        "    \n",
        "#     28*28 in conv1 coverts to 24*24, it coverts to 12*12 in Pooling and Secod conv2 converts to 8*8, pooling coverts to 4*4\n",
        "    self.fc1=nn.Linear(4*4*50,500)\n",
        "    self.dropout1=nn.Dropout(0.5)\n",
        "    self.fc2=nn.Linear(500,10)\n",
        "    \n",
        "  def forward(self,x):\n",
        "    x=F.relu(self.conv1(x))\n",
        "#     Paasing to Poooling Layer which reduces the half of the dimensions\n",
        "    x=F.max_pool2d(x,2,2)\n",
        "    x=F.relu(self.conv2(x))\n",
        "    x=F.max_pool2d(x,2,2)\n",
        "#     flattening the size before sending to FCN\n",
        "    x=x.view(-1,4*4*50)\n",
        "    x=F.relu(self.fc1(x))\n",
        "    x=self.dropout1(x)\n",
        "    x=self.fc2(x)\n",
        "    return x\n",
        "  \n",
        "    "
      ],
      "execution_count": 0,
      "outputs": []
    },
    {
      "cell_type": "code",
      "metadata": {
        "id": "YbLvitYvtj06",
        "colab_type": "code",
        "colab": {
          "base_uri": "https://localhost:8080/",
          "height": 136
        },
        "outputId": "4c94f2ec-3a7f-4b1b-d855-d51c56942d50"
      },
      "source": [
        "obj=LeNet().to(device)\n",
        "obj\n"
      ],
      "execution_count": 66,
      "outputs": [
        {
          "output_type": "execute_result",
          "data": {
            "text/plain": [
              "LeNet(\n",
              "  (conv1): Conv2d(1, 20, kernel_size=(5, 5), stride=(1, 1))\n",
              "  (conv2): Conv2d(20, 50, kernel_size=(5, 5), stride=(1, 1))\n",
              "  (fc1): Linear(in_features=800, out_features=500, bias=True)\n",
              "  (dropout1): Dropout(p=0.5)\n",
              "  (fc2): Linear(in_features=500, out_features=10, bias=True)\n",
              ")"
            ]
          },
          "metadata": {
            "tags": []
          },
          "execution_count": 66
        }
      ]
    },
    {
      "cell_type": "code",
      "metadata": {
        "id": "PytuELYetwpM",
        "colab_type": "code",
        "colab": {}
      },
      "source": [
        "criterion=nn.CrossEntropyLoss()\n",
        "optimizer=torch.optim.Adam(obj.parameters(),lr=0.0001)"
      ],
      "execution_count": 0,
      "outputs": []
    },
    {
      "cell_type": "code",
      "metadata": {
        "id": "pI1dFlauubbj",
        "colab_type": "code",
        "outputId": "7de79044-4c49-4f64-bd2d-f919922e7a7c",
        "colab": {
          "base_uri": "https://localhost:8080/",
          "height": 782
        }
      },
      "source": [
        "epochs=15\n",
        "\n",
        "train_loss=[]\n",
        "train_accuracy=[]\n",
        "validation_loss=[]\n",
        "validation_accuracy=[]\n",
        "for ite in range(epochs):\n",
        "  epoch_loss=0\n",
        "  epoch_accuracy=0\n",
        "  batch_loss=0\n",
        "  batch_accuracy=0\n",
        "  \n",
        "#   validation constraints\n",
        "  epoch_val_loss=0\n",
        "  epoch_val_accuracy=0\n",
        "  batch_val_accuracy=0\n",
        "  batch_val_loss=0\n",
        "\n",
        "  for images, labels in train_load:\n",
        "    images=images.to(device)\n",
        "    labels=labels.to(device)\n",
        "#     images=images.view(images.shape[0],-1)\n",
        "    results=obj(images)\n",
        "    loss=criterion(results,labels)\n",
        "    optimizer.zero_grad()\n",
        "    loss.backward()\n",
        "    optimizer.step()\n",
        "    batch_loss+=loss.item() \n",
        "    _,preds=torch.max(results,1)\n",
        "    batch_accuracy+=torch.sum(preds==labels.data)\n",
        "    \n",
        "    \n",
        "  else:\n",
        "    for val_img, val_lab in validation_load:\n",
        "      val_img=val_img.to(device)\n",
        "      val_lab=val_lab.to(device)\n",
        "#       val_img=val_img.view(val_img.shape[0],-1)\n",
        "      val_results=obj(val_img)\n",
        "      val_loss=criterion(val_results,val_lab)\n",
        "      \n",
        "      batch_val_loss+=val_loss.item() \n",
        "      _,val_preds=torch.max(val_results,1)\n",
        "      batch_val_accuracy+=torch.sum(val_preds==val_lab.data)\n",
        "    \n",
        "      \n",
        "      \n",
        "    epoch_val_loss=batch_val_loss/len(validation_load)\n",
        "    validation_loss.append(epoch_val_loss)\n",
        "    epoch_val_accuracy=batch_val_accuracy.float()/len(validation_load)\n",
        "    validation_accuracy.append(epoch_val_accuracy)\n",
        "    \n",
        "      \n",
        "    epoch_loss=batch_loss/len(train_load)\n",
        "    train_loss.append(epoch_loss)\n",
        "    epoch_accuracy=batch_accuracy.float()/len(train_load)\n",
        "    train_accuracy.append(epoch_accuracy)\n",
        "    \n",
        "    print('Present Epoch:',ite)\n",
        "    print('Validation Loss: {:.4f}, Validation Accuracy: {:.4f}'.format(epoch_val_loss,epoch_val_accuracy.item()))\n",
        "    print('Training Loss: {:.4f}, Training Accuracy: {:.4f}'.format(epoch_loss,epoch_accuracy.item()))\n",
        "    "
      ],
      "execution_count": 68,
      "outputs": [
        {
          "output_type": "stream",
          "text": [
            "Present Epoch: 0\n",
            "Validation Loss: 0.1643, Validation Accuracy: 95.3100\n",
            "Training Loss: 0.5606, Training Accuracy: 85.3550\n",
            "Present Epoch: 1\n",
            "Validation Loss: 0.0977, Validation Accuracy: 97.1400\n",
            "Training Loss: 0.1419, Training Accuracy: 95.7417\n",
            "Present Epoch: 2\n",
            "Validation Loss: 0.0736, Validation Accuracy: 97.6600\n",
            "Training Loss: 0.0944, Training Accuracy: 97.2417\n",
            "Present Epoch: 3\n",
            "Validation Loss: 0.0603, Validation Accuracy: 98.0500\n",
            "Training Loss: 0.0748, Training Accuracy: 97.7617\n",
            "Present Epoch: 4\n",
            "Validation Loss: 0.0516, Validation Accuracy: 98.3900\n",
            "Training Loss: 0.0628, Training Accuracy: 98.1533\n",
            "Present Epoch: 5\n",
            "Validation Loss: 0.0472, Validation Accuracy: 98.4900\n",
            "Training Loss: 0.0541, Training Accuracy: 98.3533\n",
            "Present Epoch: 6\n",
            "Validation Loss: 0.0406, Validation Accuracy: 98.6500\n",
            "Training Loss: 0.0484, Training Accuracy: 98.5617\n",
            "Present Epoch: 7\n",
            "Validation Loss: 0.0405, Validation Accuracy: 98.7000\n",
            "Training Loss: 0.0425, Training Accuracy: 98.7250\n",
            "Present Epoch: 8\n",
            "Validation Loss: 0.0395, Validation Accuracy: 98.7500\n",
            "Training Loss: 0.0391, Training Accuracy: 98.8117\n",
            "Present Epoch: 9\n",
            "Validation Loss: 0.0352, Validation Accuracy: 98.8400\n",
            "Training Loss: 0.0357, Training Accuracy: 98.9050\n",
            "Present Epoch: 10\n",
            "Validation Loss: 0.0332, Validation Accuracy: 98.8700\n",
            "Training Loss: 0.0325, Training Accuracy: 98.9900\n",
            "Present Epoch: 11\n",
            "Validation Loss: 0.0323, Validation Accuracy: 98.9200\n",
            "Training Loss: 0.0300, Training Accuracy: 99.0583\n",
            "Present Epoch: 12\n",
            "Validation Loss: 0.0305, Validation Accuracy: 98.8800\n",
            "Training Loss: 0.0278, Training Accuracy: 99.1267\n",
            "Present Epoch: 13\n",
            "Validation Loss: 0.0325, Validation Accuracy: 98.9700\n",
            "Training Loss: 0.0256, Training Accuracy: 99.2033\n",
            "Present Epoch: 14\n",
            "Validation Loss: 0.0286, Validation Accuracy: 99.0100\n",
            "Training Loss: 0.0239, Training Accuracy: 99.2517\n"
          ],
          "name": "stdout"
        }
      ]
    },
    {
      "cell_type": "code",
      "metadata": {
        "id": "Ct1QFUf1ysfc",
        "colab_type": "code",
        "outputId": "88782a68-1922-4ce7-809b-aa9a419f7264",
        "colab": {
          "base_uri": "https://localhost:8080/",
          "height": 286
        }
      },
      "source": [
        "plt.plot(validation_loss,label='validation_loss')\n",
        "plt.plot(train_loss,label='Training_loss')\n",
        "plt.legend()"
      ],
      "execution_count": 69,
      "outputs": [
        {
          "output_type": "execute_result",
          "data": {
            "text/plain": [
              "<matplotlib.legend.Legend at 0x7ff640648eb8>"
            ]
          },
          "metadata": {
            "tags": []
          },
          "execution_count": 69
        },
        {
          "output_type": "display_data",
          "data": {
            "image/png": "[encoded data removed]",
            "text/plain": [
              "<Figure size 432x288 with 1 Axes>"
            ]
          },
          "metadata": {
            "tags": []
          }
        }
      ]
    },
    {
      "cell_type": "code",
      "metadata": {
        "id": "EiPbLUh_TPGa",
        "colab_type": "code",
        "outputId": "9cd6d172-b3d1-4b41-a66d-7d7f8d840339",
        "colab": {
          "base_uri": "https://localhost:8080/",
          "height": 286
        }
      },
      "source": [
        "plt.plot(validation_accuracy,label='validation_Accuracy')\n",
        "plt.plot(train_accuracy,label='Training_Accuracy')\n",
        "plt.legend()"
      ],
      "execution_count": 70,
      "outputs": [
        {
          "output_type": "execute_result",
          "data": {
            "text/plain": [
              "<matplotlib.legend.Legend at 0x7ff6405f2710>"
            ]
          },
          "metadata": {
            "tags": []
          },
          "execution_count": 70
        },
        {
          "output_type": "display_data",
          "data": {
            "image/png": "[encoded data removed]",
            "text/plain": [
              "<Figure size 432x288 with 1 Axes>"
            ]
          },
          "metadata": {
            "tags": []
          }
        }
      ]
    },
    {
      "cell_type": "code",
      "metadata": {
        "id": "gF_3S9ppUDTp",
        "colab_type": "code",
        "outputId": "67420017-bfc8-419c-a143-7e29176b1e9c",
        "colab": {
          "base_uri": "https://localhost:8080/",
          "height": 34
        }
      },
      "source": [
        "print(type(validation_load))"
      ],
      "execution_count": 71,
      "outputs": [
        {
          "output_type": "stream",
          "text": [
            "<class 'torch.utils.data.dataloader.DataLoader'>\n"
          ],
          "name": "stdout"
        }
      ]
    },
    {
      "cell_type": "code",
      "metadata": {
        "id": "0ouZOY9iZvmF",
        "colab_type": "code",
        "colab": {}
      },
      "source": [
        "import PIL.ImageOps"
      ],
      "execution_count": 0,
      "outputs": []
    },
    {
      "cell_type": "code",
      "metadata": {
        "id": "DZyrgHU6ZIIC",
        "colab_type": "code",
        "outputId": "b120edde-0c09-42d7-cb24-188a5321e4ce",
        "colab": {
          "base_uri": "https://localhost:8080/",
          "height": 286
        }
      },
      "source": [
        "import requests\n",
        "from PIL import Image\n",
        "\n",
        "url = 'https://images.homedepot-static.com/productImages/007164ea-d47e-4f66-8d8c-fd9f621984a2/svn/architectural-mailboxes-house-letters-numbers-3585b-5-64_1000.jpg'\n",
        "response = requests.get(url, stream = True)\n",
        "img = Image.open(response.raw)\n",
        "plt.imshow(img)"
      ],
      "execution_count": 73,
      "outputs": [
        {
          "output_type": "execute_result",
          "data": {
            "text/plain": [
              "<matplotlib.image.AxesImage at 0x7ff640165278>"
            ]
          },
          "metadata": {
            "tags": []
          },
          "execution_count": 73
        },
        {
          "output_type": "display_data",
          "data": {
            "image/png": "[encoded data removed]",
            "text/plain": [
              "<Figure size 432x288 with 1 Axes>"
            ]
          },
          "metadata": {
            "tags": []
          }
        }
      ]
    },
    {
      "cell_type": "code",
      "metadata": {
        "id": "wOTfdt8laDs4",
        "colab_type": "code",
        "outputId": "c72f5952-3c7e-471e-d240-c2206d114752",
        "colab": {
          "base_uri": "https://localhost:8080/",
          "height": 286
        }
      },
      "source": [
        "# data preprocessing \n",
        "# 1->Invert the colors of the image\n",
        "img=PIL.ImageOps.invert(img)\n",
        "# convert the image into binary color (0,1)\n",
        "img=img.convert('1')\n",
        "img=transforms(img)\n",
        "plt.imshow(img_convert(img))\n"
      ],
      "execution_count": 74,
      "outputs": [
        {
          "output_type": "execute_result",
          "data": {
            "text/plain": [
              "<matplotlib.image.AxesImage at 0x7ff640138668>"
            ]
          },
          "metadata": {
            "tags": []
          },
          "execution_count": 74
        },
        {
          "output_type": "display_data",
          "data": {
            "image/png": "[encoded data removed]",
            "text/plain": [
              "<Figure size 432x288 with 1 Axes>"
            ]
          },
          "metadata": {
            "tags": []
          }
        }
      ]
    },
    {
      "cell_type": "code",
      "metadata": {
        "id": "3xNUdpcYcAv9",
        "colab_type": "code",
        "outputId": "15fcbf38-7b07-4c47-e112-83ccd096fd96",
        "colab": {
          "base_uri": "https://localhost:8080/",
          "height": 34
        }
      },
      "source": [
        "img=img.to(device)\n",
        "img=img[0].unsqueeze(0).unsqueeze(0)\n",
        "result=obj(img)\n",
        "_,preds=torch.max(result,1)\n",
        "print(preds.item())"
      ],
      "execution_count": 75,
      "outputs": [
        {
          "output_type": "stream",
          "text": [
            "5\n"
          ],
          "name": "stdout"
        }
      ]
    },
    {
      "cell_type": "code",
      "metadata": {
        "id": "4kHANCLAc2cP",
        "colab_type": "code",
        "outputId": "32f0b289-0141-43d8-de93-3656a7820b71",
        "colab": {
          "base_uri": "https://localhost:8080/",
          "height": 288
        }
      },
      "source": [
        "dataiter=iter(validation_load)\n",
        "images,labels = dataiter.next() #loads 100 batchsize of data for every iteration\n",
        "images=images.to(device)\n",
        "labels=labels.to(device)\n",
        "# images_=images.view(images.shape[0],-1)\n",
        "results=obj(images)\n",
        "_,predics=torch.max(results,1)\n",
        "main=plt.figure(figsize=(25,4))\n",
        "for index in np.arange(20):\n",
        "  ax=main.add_subplot(2,10,index+1,xticks=[], yticks=[])\n",
        "  plt.imshow(img_convert(images[index]))\n",
        "  ax.set_title('{},{}'.format(str(predics[index].item()),str(labels[index].item())),color=('green'if predics[index]==labels[index] else 'red'))"
      ],
      "execution_count": 76,
      "outputs": [
        {
          "output_type": "display_data",
          "data": {
            "image/png": "[encoded data removed]",
            "text/plain": [
              "<Figure size 1800x288 with 20 Axes>"
            ]
          },
          "metadata": {
            "tags": []
          }
        }
      ]
    },
    {
      "cell_type": "code",
      "metadata": {
        "id": "Y5KoC47Oe7rG",
        "colab_type": "code",
        "colab": {}
      },
      "source": [
        ""
      ],
      "execution_count": 0,
      "outputs": []
    },
    {
      "cell_type": "code",
      "metadata": {
        "id": "CCs8TiiDj3JA",
        "colab_type": "code",
        "colab": {}
      },
      "source": [
        ""
      ],
      "execution_count": 0,
      "outputs": []
    }
  ]
}