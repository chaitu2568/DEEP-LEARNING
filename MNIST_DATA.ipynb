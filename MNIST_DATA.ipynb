{
  "nbformat": 4,
  "nbformat_minor": 0,
  "metadata": {
    "colab": {
      "name": "MNIST DATA.ipynb",
      "version": "0.3.2",
      "provenance": [],
      "collapsed_sections": [],
      "include_colab_link": true
    },
    "kernelspec": {
      "name": "python3",
      "display_name": "Python 3"
    }
  },
  "cells": [
    {
      "cell_type": "markdown",
      "metadata": {
        "id": "view-in-github",
        "colab_type": "text"
      },
      "source": [
        "<a href=\"https://colab.research.google.com/github/chaitu2568/DEEP-LEARNING/blob/master/MNIST_DATA.ipynb\" target=\"_parent\"><img src=\"https://colab.research.google.com/assets/colab-badge.svg\" alt=\"Open In Colab\"/></a>"
      ]
    },
    {
      "cell_type": "code",
      "metadata": {
        "id": "MSxk1LBjURyy",
        "colab_type": "code",
        "outputId": "dc6a924d-6715-4e6b-da85-8fb7f44f6b6e",
        "colab": {
          "base_uri": "https://localhost:8080/",
          "height": 119
        }
      },
      "source": [
        "!pip3 install torch torchvision"
      ],
      "execution_count": 1,
      "outputs": [
        {
          "output_type": "stream",
          "text": [
            "Requirement already satisfied: torch in /usr/local/lib/python3.6/dist-packages (1.1.0)\n",
            "Requirement already satisfied: torchvision in /usr/local/lib/python3.6/dist-packages (0.3.0)\n",
            "Requirement already satisfied: numpy in /usr/local/lib/python3.6/dist-packages (from torch) (1.16.4)\n",
            "Requirement already satisfied: pillow>=4.1.1 in /usr/local/lib/python3.6/dist-packages (from torchvision) (4.3.0)\n",
            "Requirement already satisfied: six in /usr/local/lib/python3.6/dist-packages (from torchvision) (1.12.0)\n",
            "Requirement already satisfied: olefile in /usr/local/lib/python3.6/dist-packages (from pillow>=4.1.1->torchvision) (0.46)\n"
          ],
          "name": "stdout"
        }
      ]
    },
    {
      "cell_type": "code",
      "metadata": {
        "id": "P6K6TEYKUYKx",
        "colab_type": "code",
        "colab": {}
      },
      "source": [
        "import torch \n",
        "from torchvision import datasets,transforms\n",
        "import numpy as np\n",
        "import matplotlib.pyplot as plt\n",
        "from torch import nn\n",
        "import torch.nn.functional as F"
      ],
      "execution_count": 0,
      "outputs": []
    },
    {
      "cell_type": "code",
      "metadata": {
        "id": "I6-hJRhiUwJp",
        "colab_type": "code",
        "outputId": "e3c6b178-7441-4480-f356-88ea110fae48",
        "colab": {
          "base_uri": "https://localhost:8080/",
          "height": 275
        }
      },
      "source": [
        "# Applying the transformations to the data\n",
        "# 1->Numpy to Tensor(returns float values ranging from 0 to 1)\n",
        "# 2->Normalising the values by setting mean=0.5 and sd=0.5 for ColorScale,Width and Height of Image (returns values ranging from (-1,1))\n",
        "\n",
        "transforms=transforms.Compose([transforms.Resize((28,28)),transforms.ToTensor(),transforms.Normalize((0.5,),(0.5,))])\n",
        "# Datasets are taken from the MNIST dataset\n",
        "train_data=datasets.MNIST(root='./imgdata',train=True,download=True,transform=transforms)\n",
        "validation_data=datasets.MNIST(root='./imgdata',train=False,download=True,transform=transforms)\n",
        "# laoding the datasets batch wise for each epoch\n",
        "train_load=torch.utils.data.DataLoader(dataset=train_data,batch_size=100,shuffle=True) #to avoid the Local Minimum\n",
        "validation_load=torch.utils.data.DataLoader(dataset=validation_data,batch_size=100,shuffle=False)"
      ],
      "execution_count": 3,
      "outputs": [
        {
          "output_type": "stream",
          "text": [
            "\r0it [00:00, ?it/s]"
          ],
          "name": "stderr"
        },
        {
          "output_type": "stream",
          "text": [
            "Downloading http://yann.lecun.com/exdb/mnist/train-images-idx3-ubyte.gz to ./imgdata/MNIST/raw/train-images-idx3-ubyte.gz\n"
          ],
          "name": "stdout"
        },
        {
          "output_type": "stream",
          "text": [
            "9920512it [00:01, 9327554.69it/s]                            \n"
          ],
          "name": "stderr"
        },
        {
          "output_type": "stream",
          "text": [
            "Extracting ./imgdata/MNIST/raw/train-images-idx3-ubyte.gz\n"
          ],
          "name": "stdout"
        },
        {
          "output_type": "stream",
          "text": [
            "  0%|          | 0/28881 [00:00<?, ?it/s]"
          ],
          "name": "stderr"
        },
        {
          "output_type": "stream",
          "text": [
            "Downloading http://yann.lecun.com/exdb/mnist/train-labels-idx1-ubyte.gz to ./imgdata/MNIST/raw/train-labels-idx1-ubyte.gz\n"
          ],
          "name": "stdout"
        },
        {
          "output_type": "stream",
          "text": [
            "32768it [00:00, 137336.36it/s]           \n",
            "  0%|          | 0/1648877 [00:00<?, ?it/s]"
          ],
          "name": "stderr"
        },
        {
          "output_type": "stream",
          "text": [
            "Extracting ./imgdata/MNIST/raw/train-labels-idx1-ubyte.gz\n",
            "Downloading http://yann.lecun.com/exdb/mnist/t10k-images-idx3-ubyte.gz to ./imgdata/MNIST/raw/t10k-images-idx3-ubyte.gz\n"
          ],
          "name": "stdout"
        },
        {
          "output_type": "stream",
          "text": [
            "1654784it [00:00, 2240177.94it/s]                            \n",
            "0it [00:00, ?it/s]"
          ],
          "name": "stderr"
        },
        {
          "output_type": "stream",
          "text": [
            "Extracting ./imgdata/MNIST/raw/t10k-images-idx3-ubyte.gz\n",
            "Downloading http://yann.lecun.com/exdb/mnist/t10k-labels-idx1-ubyte.gz to ./imgdata/MNIST/raw/t10k-labels-idx1-ubyte.gz\n"
          ],
          "name": "stdout"
        },
        {
          "output_type": "stream",
          "text": [
            "8192it [00:00, 54057.47it/s]            \n"
          ],
          "name": "stderr"
        },
        {
          "output_type": "stream",
          "text": [
            "Extracting ./imgdata/MNIST/raw/t10k-labels-idx1-ubyte.gz\n",
            "Processing...\n",
            "Done!\n"
          ],
          "name": "stdout"
        }
      ]
    },
    {
      "cell_type": "code",
      "metadata": {
        "id": "blPE8fueWWew",
        "colab_type": "code",
        "colab": {}
      },
      "source": [
        "# Now to plot the graph covert back into Tensor\n",
        "\n",
        "def img_convert(tensor):\n",
        "#   first cloning and coverting into numpy array\n",
        "  image=tensor.clone().detach().numpy()\n",
        "#   changing dimensions from 1,28,28 to 28,28,1\n",
        "  image=image.transpose(1,2,0)  \n",
        "#   deNormalizing it by multiplying with sd and adding mean\n",
        "  image=image*np.array((0.5,0.5,0.5))+np.array((0.5,0.5,0.5))\n",
        "#   changing the range from 0 to 1\n",
        "  image=image.clip(0,1)\n",
        "  return image"
      ],
      "execution_count": 0,
      "outputs": []
    },
    {
      "cell_type": "code",
      "metadata": {
        "id": "rcpxbOU8ZPm3",
        "colab_type": "code",
        "outputId": "2227b9fa-80dd-409d-fd26-3d5189130f47",
        "colab": {
          "base_uri": "https://localhost:8080/",
          "height": 288
        }
      },
      "source": [
        "dataiter=iter(train_load)\n",
        "images,labels = dataiter.next() #loads 100 batchsize of data for every iteration\n",
        "main=plt.figure(figsize=(25,4))\n",
        "\n",
        "\n",
        "for index in np.arange(20):\n",
        "  ax=main.add_subplot(2,10,index+1,xticks=[], yticks=[])\n",
        "  plt.imshow(img_convert(images[index]))\n",
        "  ax.set_title([labels[index].item()])\n",
        "  \n",
        "  "
      ],
      "execution_count": 5,
      "outputs": [
        {
          "output_type": "display_data",
          "data": {
            "image/png": "[encoded data removed]",
            "text/plain": [
              "<Figure size 1800x288 with 20 Axes>"
            ]
          },
          "metadata": {
            "tags": []
          }
        }
      ]
    },
    {
      "cell_type": "code",
      "metadata": {
        "id": "-vp22ajOa126",
        "colab_type": "code",
        "colab": {}
      },
      "source": [
        "class MultiClassifier(nn.Module):\n",
        "  def __init__(self,data_in,H1,H2,data_out):\n",
        "    super().__init__()\n",
        "    self.linear1=nn.Linear(data_in,H1)\n",
        "    self.linear2=nn.Linear(H1,H2)\n",
        "    self.linear3=nn.Linear(H2,data_out)\n",
        "  def forward(self,x):\n",
        "    x=F.relu(self.linear1(x))\n",
        "    x=F.relu(self.linear2(x))\n",
        "    x=self.linear3(x)\n",
        "    return x\n",
        "  \n",
        "    "
      ],
      "execution_count": 0,
      "outputs": []
    },
    {
      "cell_type": "code",
      "metadata": {
        "id": "YbLvitYvtj06",
        "colab_type": "code",
        "colab": {}
      },
      "source": [
        "obj=MultiClassifier(784,125,65,10)\n"
      ],
      "execution_count": 0,
      "outputs": []
    },
    {
      "cell_type": "code",
      "metadata": {
        "id": "PytuELYetwpM",
        "colab_type": "code",
        "colab": {}
      },
      "source": [
        "criterion=nn.CrossEntropyLoss()\n",
        "optimizer=torch.optim.Adam(obj.parameters(),lr=0.0001)"
      ],
      "execution_count": 0,
      "outputs": []
    },
    {
      "cell_type": "code",
      "metadata": {
        "id": "pI1dFlauubbj",
        "colab_type": "code",
        "outputId": "3411c935-5a31-4ded-fce6-dbf39dc94864",
        "colab": {
          "base_uri": "https://localhost:8080/",
          "height": 782
        }
      },
      "source": [
        "epochs=15\n",
        "\n",
        "train_loss=[]\n",
        "train_accuracy=[]\n",
        "validation_loss=[]\n",
        "validation_accuracy=[]\n",
        "for iter in range(epochs):\n",
        "  epoch_loss=0\n",
        "  epoch_accuracy=0\n",
        "  batch_loss=0\n",
        "  batch_accuracy=0\n",
        "  \n",
        "#   validation constraints\n",
        "  epoch_val_loss=0\n",
        "  epoch_val_accuracy=0\n",
        "  batch_val_accuracy=0\n",
        "  batch_val_loss=0\n",
        "\n",
        "  for images, labels in train_load:\n",
        "    images=images.view(images.shape[0],-1)\n",
        "    results=obj(images)\n",
        "    loss=criterion(results,labels)\n",
        "    optimizer.zero_grad()\n",
        "    loss.backward()\n",
        "    optimizer.step()\n",
        "    batch_loss+=loss.item() \n",
        "    _,preds=torch.max(results,1)\n",
        "    batch_accuracy+=torch.sum(preds==labels.data)\n",
        "    \n",
        "    \n",
        "  else:\n",
        "    for val_img, val_lab in validation_load:\n",
        "      val_img=val_img.view(val_img.shape[0],-1)\n",
        "      val_results=obj(val_img)\n",
        "      val_loss=criterion(val_results,val_lab)\n",
        "      \n",
        "      batch_val_loss+=val_loss.item() \n",
        "      _,val_preds=torch.max(val_results,1)\n",
        "      batch_val_accuracy+=torch.sum(val_preds==val_lab.data)\n",
        "    \n",
        "      \n",
        "      \n",
        "    epoch_val_loss=batch_val_loss/len(validation_load)\n",
        "    validation_loss.append(epoch_val_loss)\n",
        "    epoch_val_accuracy=batch_val_accuracy.float()/len(validation_load)\n",
        "    validation_accuracy.append(epoch_val_accuracy)\n",
        "    \n",
        "      \n",
        "    epoch_loss=batch_loss/len(train_load)\n",
        "    train_loss.append(epoch_loss)\n",
        "    epoch_accuracy=batch_accuracy.float()/len(train_load)\n",
        "    train_accuracy.append(epoch_accuracy)\n",
        "    \n",
        "    print('Present Epoch:',iter)\n",
        "    print('Validation Loss: {:.4f}, Validation Accuracy: {:.4f}'.format(epoch_val_loss,epoch_val_accuracy.item()))\n",
        "    print('Training Loss: {:.4f}, Training Accuracy: {:.4f}'.format(epoch_loss,epoch_accuracy.item()))\n",
        "    "
      ],
      "execution_count": 9,
      "outputs": [
        {
          "output_type": "stream",
          "text": [
            "Present Epoch: 0\n",
            "Validation Loss: 0.4306, Validation Accuracy: 88.8400\n",
            "Training Loss: 0.9567, Training Accuracy: 75.5883\n",
            "Present Epoch: 1\n",
            "Validation Loss: 0.3278, Validation Accuracy: 90.8600\n",
            "Training Loss: 0.3826, Training Accuracy: 89.2717\n",
            "Present Epoch: 2\n",
            "Validation Loss: 0.2876, Validation Accuracy: 92.0200\n",
            "Training Loss: 0.3195, Training Accuracy: 90.8733\n",
            "Present Epoch: 3\n",
            "Validation Loss: 0.2671, Validation Accuracy: 92.1000\n",
            "Training Loss: 0.2874, Training Accuracy: 91.6167\n",
            "Present Epoch: 4\n",
            "Validation Loss: 0.2465, Validation Accuracy: 93.1400\n",
            "Training Loss: 0.2616, Training Accuracy: 92.4183\n",
            "Present Epoch: 5\n",
            "Validation Loss: 0.2295, Validation Accuracy: 93.5900\n",
            "Training Loss: 0.2383, Training Accuracy: 93.1283\n",
            "Present Epoch: 6\n",
            "Validation Loss: 0.2063, Validation Accuracy: 94.0100\n",
            "Training Loss: 0.2172, Training Accuracy: 93.7817\n",
            "Present Epoch: 7\n",
            "Validation Loss: 0.1974, Validation Accuracy: 94.0800\n",
            "Training Loss: 0.1999, Training Accuracy: 94.2883\n",
            "Present Epoch: 8\n",
            "Validation Loss: 0.1784, Validation Accuracy: 94.6700\n",
            "Training Loss: 0.1834, Training Accuracy: 94.7567\n",
            "Present Epoch: 9\n",
            "Validation Loss: 0.1686, Validation Accuracy: 94.9000\n",
            "Training Loss: 0.1704, Training Accuracy: 95.0500\n",
            "Present Epoch: 10\n",
            "Validation Loss: 0.1593, Validation Accuracy: 95.2000\n",
            "Training Loss: 0.1585, Training Accuracy: 95.4617\n",
            "Present Epoch: 11\n",
            "Validation Loss: 0.1508, Validation Accuracy: 95.6200\n",
            "Training Loss: 0.1477, Training Accuracy: 95.6850\n",
            "Present Epoch: 12\n",
            "Validation Loss: 0.1434, Validation Accuracy: 95.8000\n",
            "Training Loss: 0.1382, Training Accuracy: 95.9317\n",
            "Present Epoch: 13\n",
            "Validation Loss: 0.1356, Validation Accuracy: 96.0300\n",
            "Training Loss: 0.1296, Training Accuracy: 96.2267\n",
            "Present Epoch: 14\n",
            "Validation Loss: 0.1302, Validation Accuracy: 96.0600\n",
            "Training Loss: 0.1220, Training Accuracy: 96.4767\n"
          ],
          "name": "stdout"
        }
      ]
    },
    {
      "cell_type": "code",
      "metadata": {
        "id": "Ct1QFUf1ysfc",
        "colab_type": "code",
        "colab": {
          "base_uri": "https://localhost:8080/",
          "height": 287
        },
        "outputId": "0e88e353-0df3-4c68-fc6a-407ccd94c667"
      },
      "source": [
        "plt.plot(validation_loss,label='validation_loss')\n",
        "plt.plot(train_loss,label='Training_loss')\n",
        "plt.legend()"
      ],
      "execution_count": 10,
      "outputs": [
        {
          "output_type": "execute_result",
          "data": {
            "text/plain": [
              "<matplotlib.legend.Legend at 0x7f1ab376b898>"
            ]
          },
          "metadata": {
            "tags": []
          },
          "execution_count": 10
        },
        {
          "output_type": "display_data",
          "data": {
            "image/png": "[encoded data removed]",
            "text/plain": [
              "<Figure size 432x288 with 1 Axes>"
            ]
          },
          "metadata": {
            "tags": []
          }
        }
      ]
    },
    {
      "cell_type": "code",
      "metadata": {
        "id": "EiPbLUh_TPGa",
        "colab_type": "code",
        "colab": {
          "base_uri": "https://localhost:8080/",
          "height": 286
        },
        "outputId": "c516687f-55a1-44bd-bb10-58d164070381"
      },
      "source": [
        "plt.plot(validation_accuracy,label='validation_Accuracy')\n",
        "plt.plot(train_accuracy,label='Training_Accuracy')\n",
        "plt.legend()"
      ],
      "execution_count": 11,
      "outputs": [
        {
          "output_type": "execute_result",
          "data": {
            "text/plain": [
              "<matplotlib.legend.Legend at 0x7f1ab372bfd0>"
            ]
          },
          "metadata": {
            "tags": []
          },
          "execution_count": 11
        },
        {
          "output_type": "display_data",
          "data": {
            "image/png": "[encoded data removed]",
            "text/plain": [
              "<Figure size 432x288 with 1 Axes>"
            ]
          },
          "metadata": {
            "tags": []
          }
        }
      ]
    },
    {
      "cell_type": "code",
      "metadata": {
        "id": "gF_3S9ppUDTp",
        "colab_type": "code",
        "colab": {
          "base_uri": "https://localhost:8080/",
          "height": 327
        },
        "outputId": "5d181e02-f0ad-47e7-8f9a-d6501b1ed8e9"
      },
      "source": [
        "!pip3 install pillow==4.0.0"
      ],
      "execution_count": 12,
      "outputs": [
        {
          "output_type": "stream",
          "text": [
            "Collecting pillow==4.0.0\n",
            "\u001b[?25l  Downloading https://files.pythonhosted.org/packages/37/e8/b3fbf87b0188d22246678f8cd61e23e31caa1769ebc06f1664e2e5fe8a17/Pillow-4.0.0-cp36-cp36m-manylinux1_x86_64.whl (5.6MB)\n",
            "\u001b[K     |████████████████████████████████| 5.6MB 4.2MB/s \n",
            "\u001b[?25hRequirement already satisfied: olefile in /usr/local/lib/python3.6/dist-packages (from pillow==4.0.0) (0.46)\n",
            "\u001b[31mERROR: torchvision 0.3.0 has requirement pillow>=4.1.1, but you'll have pillow 4.0.0 which is incompatible.\u001b[0m\n",
            "\u001b[31mERROR: scikit-image 0.15.0 has requirement pillow>=4.3.0, but you'll have pillow 4.0.0 which is incompatible.\u001b[0m\n",
            "\u001b[31mERROR: albumentations 0.1.12 has requirement imgaug<0.2.7,>=0.2.5, but you'll have imgaug 0.2.9 which is incompatible.\u001b[0m\n",
            "Installing collected packages: pillow\n",
            "  Found existing installation: Pillow 4.3.0\n",
            "    Uninstalling Pillow-4.3.0:\n",
            "      Successfully uninstalled Pillow-4.3.0\n",
            "Successfully installed pillow-4.0.0\n"
          ],
          "name": "stdout"
        },
        {
          "output_type": "display_data",
          "data": {
            "application/vnd.colab-display-data+json": {
              "pip_warning": {
                "packages": [
                  "PIL"
                ]
              }
            }
          },
          "metadata": {
            "tags": []
          }
        }
      ]
    },
    {
      "cell_type": "code",
      "metadata": {
        "id": "0ouZOY9iZvmF",
        "colab_type": "code",
        "colab": {}
      },
      "source": [
        "import PIL.ImageOps"
      ],
      "execution_count": 0,
      "outputs": []
    },
    {
      "cell_type": "code",
      "metadata": {
        "id": "DZyrgHU6ZIIC",
        "colab_type": "code",
        "colab": {
          "base_uri": "https://localhost:8080/",
          "height": 286
        },
        "outputId": "57a15aea-6153-4d30-df14-6cfeea513c5f"
      },
      "source": [
        "import requests\n",
        "from PIL import Image\n",
        "\n",
        "url = 'https://images.homedepot-static.com/productImages/007164ea-d47e-4f66-8d8c-fd9f621984a2/svn/architectural-mailboxes-house-letters-numbers-3585b-5-64_1000.jpg'\n",
        "response = requests.get(url, stream = True)\n",
        "img = Image.open(response.raw)\n",
        "plt.imshow(img)"
      ],
      "execution_count": 14,
      "outputs": [
        {
          "output_type": "execute_result",
          "data": {
            "text/plain": [
              "<matplotlib.image.AxesImage at 0x7f1ab35b3080>"
            ]
          },
          "metadata": {
            "tags": []
          },
          "execution_count": 14
        },
        {
          "output_type": "display_data",
          "data": {
            "image/png": "[encoded data removed]",
            "text/plain": [
              "<Figure size 432x288 with 1 Axes>"
            ]
          },
          "metadata": {
            "tags": []
          }
        }
      ]
    },
    {
      "cell_type": "code",
      "metadata": {
        "id": "wOTfdt8laDs4",
        "colab_type": "code",
        "colab": {
          "base_uri": "https://localhost:8080/",
          "height": 286
        },
        "outputId": "ff2881b1-7e8b-4f35-b6cd-2249fa5bbb3a"
      },
      "source": [
        "# data preprocessing \n",
        "# 1->Invert the colors of the image\n",
        "img=PIL.ImageOps.invert(img)\n",
        "# convert the image into binary color (0,1)\n",
        "img=img.convert('1')\n",
        "img=transforms(img)\n",
        "plt.imshow(img_convert(img))\n"
      ],
      "execution_count": 15,
      "outputs": [
        {
          "output_type": "execute_result",
          "data": {
            "text/plain": [
              "<matplotlib.image.AxesImage at 0x7f1ab358e4a8>"
            ]
          },
          "metadata": {
            "tags": []
          },
          "execution_count": 15
        },
        {
          "output_type": "display_data",
          "data": {
            "image/png": "[encoded data removed]",
            "text/plain": [
              "<Figure size 432x288 with 1 Axes>"
            ]
          },
          "metadata": {
            "tags": []
          }
        }
      ]
    },
    {
      "cell_type": "code",
      "metadata": {
        "id": "3xNUdpcYcAv9",
        "colab_type": "code",
        "colab": {
          "base_uri": "https://localhost:8080/",
          "height": 34
        },
        "outputId": "05232d70-6b7c-423c-9d66-4746e03609d3"
      },
      "source": [
        "img=img.view(img.shape[0],-1)\n",
        "result=obj(img)\n",
        "_,preds=torch.max(result,1)\n",
        "print(preds.item())"
      ],
      "execution_count": 16,
      "outputs": [
        {
          "output_type": "stream",
          "text": [
            "5\n"
          ],
          "name": "stdout"
        }
      ]
    },
    {
      "cell_type": "code",
      "metadata": {
        "id": "4kHANCLAc2cP",
        "colab_type": "code",
        "colab": {
          "base_uri": "https://localhost:8080/",
          "height": 232
        },
        "outputId": "89dce976-6fc6-4ea6-ac70-5daf6f17ea06"
      },
      "source": [
        "dataiter=iter(validation_load)\n",
        "images,labels = dataiter.next() #loads 100 batchsize of data for every iteration\n",
        "images_=images.view(images.shape[0],-1)\n",
        "results=obj(images_)\n",
        "_,predics=torch.max(results,1)\n",
        "main=plt.figure(figsize=(25,4))\n",
        "for index in np.arange(20):\n",
        "  ax=main.add_subplot(2,10,index+1,xticks=[], yticks=[])\n",
        "  plt.imshow(img_convert(images[index]))\n",
        "  ax.set_title('{},{{}}'.format(str(predics[index].item()),str(labels[index].item())),color=('green'if predics[index]==labels[index] else 'red'))"
      ],
      "execution_count": 18,
      "outputs": [
        {
          "output_type": "error",
          "ename": "TypeError",
          "evalue": "ignored",
          "traceback": [
            "\u001b[0;31m---------------------------------------------------------------------------\u001b[0m",
            "\u001b[0;31mTypeError\u001b[0m                                 Traceback (most recent call last)",
            "\u001b[0;32m<ipython-input-18-834ff1d0156f>\u001b[0m in \u001b[0;36m<module>\u001b[0;34m()\u001b[0m\n\u001b[0;32m----> 1\u001b[0;31m \u001b[0mdataiter\u001b[0m\u001b[0;34m=\u001b[0m\u001b[0miter\u001b[0m\u001b[0;34m(\u001b[0m\u001b[0mvalidation_load\u001b[0m\u001b[0;34m)\u001b[0m\u001b[0;34m\u001b[0m\u001b[0;34m\u001b[0m\u001b[0m\n\u001b[0m\u001b[1;32m      2\u001b[0m \u001b[0mimages\u001b[0m\u001b[0;34m,\u001b[0m\u001b[0mlabels\u001b[0m \u001b[0;34m=\u001b[0m \u001b[0mdataiter\u001b[0m\u001b[0;34m.\u001b[0m\u001b[0mnext\u001b[0m\u001b[0;34m(\u001b[0m\u001b[0;34m)\u001b[0m \u001b[0;31m#loads 100 batchsize of data for every iteration\u001b[0m\u001b[0;34m\u001b[0m\u001b[0;34m\u001b[0m\u001b[0m\n\u001b[1;32m      3\u001b[0m \u001b[0mimages_\u001b[0m\u001b[0;34m=\u001b[0m\u001b[0mimages\u001b[0m\u001b[0;34m.\u001b[0m\u001b[0mview\u001b[0m\u001b[0;34m(\u001b[0m\u001b[0mimages\u001b[0m\u001b[0;34m.\u001b[0m\u001b[0mshape\u001b[0m\u001b[0;34m[\u001b[0m\u001b[0;36m0\u001b[0m\u001b[0;34m]\u001b[0m\u001b[0;34m,\u001b[0m\u001b[0;34m-\u001b[0m\u001b[0;36m1\u001b[0m\u001b[0;34m)\u001b[0m\u001b[0;34m\u001b[0m\u001b[0;34m\u001b[0m\u001b[0m\n\u001b[1;32m      4\u001b[0m \u001b[0mresults\u001b[0m\u001b[0;34m=\u001b[0m\u001b[0mobj\u001b[0m\u001b[0;34m(\u001b[0m\u001b[0mimages_\u001b[0m\u001b[0;34m)\u001b[0m\u001b[0;34m\u001b[0m\u001b[0;34m\u001b[0m\u001b[0m\n\u001b[1;32m      5\u001b[0m \u001b[0m_\u001b[0m\u001b[0;34m,\u001b[0m\u001b[0mpredics\u001b[0m\u001b[0;34m=\u001b[0m\u001b[0mtorch\u001b[0m\u001b[0;34m.\u001b[0m\u001b[0mmax\u001b[0m\u001b[0;34m(\u001b[0m\u001b[0mresults\u001b[0m\u001b[0;34m,\u001b[0m\u001b[0;36m1\u001b[0m\u001b[0;34m)\u001b[0m\u001b[0;34m\u001b[0m\u001b[0;34m\u001b[0m\u001b[0m\n",
            "\u001b[0;31mTypeError\u001b[0m: 'int' object is not callable"
          ]
        }
      ]
    },
    {
      "cell_type": "code",
      "metadata": {
        "id": "Y5KoC47Oe7rG",
        "colab_type": "code",
        "colab": {}
      },
      "source": [
        ""
      ],
      "execution_count": 0,
      "outputs": []
    }
  ]
}