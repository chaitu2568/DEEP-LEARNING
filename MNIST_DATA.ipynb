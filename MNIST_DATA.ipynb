{
  "nbformat": 4,
  "nbformat_minor": 0,
  "metadata": {
    "colab": {
      "name": "MNIST DATA.ipynb",
      "version": "0.3.2",
      "provenance": [],
      "collapsed_sections": [],
      "include_colab_link": true
    },
    "kernelspec": {
      "name": "python3",
      "display_name": "Python 3"
    }
  },
  "cells": [
    {
      "cell_type": "markdown",
      "metadata": {
        "id": "view-in-github",
        "colab_type": "text"
      },
      "source": [
        "<a href=\"https://colab.research.google.com/github/chaitu2568/DEEP-LEARNING/blob/master/MNIST_DATA.ipynb\" target=\"_parent\"><img src=\"https://colab.research.google.com/assets/colab-badge.svg\" alt=\"Open In Colab\"/></a>"
      ]
    },
    {
      "cell_type": "code",
      "metadata": {
        "id": "MSxk1LBjURyy",
        "colab_type": "code",
        "outputId": "2c456437-b2fa-473b-b378-649b60d89366",
        "colab": {
          "base_uri": "https://localhost:8080/",
          "height": 344
        }
      },
      "source": [
        "!pip3 install torch torchvision"
      ],
      "execution_count": 1,
      "outputs": [
        {
          "output_type": "stream",
          "text": [
            "Requirement already satisfied: torch in /usr/local/lib/python3.6/dist-packages (1.1.0)\n",
            "Requirement already satisfied: torchvision in /usr/local/lib/python3.6/dist-packages (0.3.0)\n",
            "Requirement already satisfied: numpy in /usr/local/lib/python3.6/dist-packages (from torch) (1.16.4)\n",
            "Collecting pillow>=4.1.1 (from torchvision)\n",
            "\u001b[?25l  Downloading https://files.pythonhosted.org/packages/d2/c2/f84b1e57416755e967236468dcfb0fad7fd911f707185efc4ba8834a1a94/Pillow-6.0.0-cp36-cp36m-manylinux1_x86_64.whl (2.0MB)\n",
            "\u001b[K     |████████████████████████████████| 2.0MB 4.8MB/s \n",
            "\u001b[?25hRequirement already satisfied: six in /usr/local/lib/python3.6/dist-packages (from torchvision) (1.12.0)\n",
            "\u001b[31mERROR: albumentations 0.1.12 has requirement imgaug<0.2.7,>=0.2.5, but you'll have imgaug 0.2.9 which is incompatible.\u001b[0m\n",
            "Installing collected packages: pillow\n",
            "  Found existing installation: Pillow 4.0.0\n",
            "    Uninstalling Pillow-4.0.0:\n",
            "      Successfully uninstalled Pillow-4.0.0\n",
            "Successfully installed pillow-6.0.0\n"
          ],
          "name": "stdout"
        },
        {
          "output_type": "display_data",
          "data": {
            "application/vnd.colab-display-data+json": {
              "pip_warning": {
                "packages": [
                  "PIL"
                ]
              }
            }
          },
          "metadata": {
            "tags": []
          }
        }
      ]
    },
    {
      "cell_type": "code",
      "metadata": {
        "id": "P6K6TEYKUYKx",
        "colab_type": "code",
        "colab": {}
      },
      "source": [
        "import torch \n",
        "from torchvision import datasets,transforms\n",
        "import numpy as np\n",
        "import matplotlib.pyplot as plt\n",
        "from torch import nn\n",
        "import torch.nn.functional as F"
      ],
      "execution_count": 0,
      "outputs": []
    },
    {
      "cell_type": "code",
      "metadata": {
        "id": "I6-hJRhiUwJp",
        "colab_type": "code",
        "colab": {}
      },
      "source": [
        "# Applying the transformations to the data\n",
        "# 1->Numpy to Tensor(returns float values ranging from 0 to 1)\n",
        "# 2->Normalising the values by setting mean=0.5 and sd=0.5 for ColorScale,Width and Height of Image (returns values ranging from (-1,1))\n",
        "\n",
        "transforms=transforms.Compose([transforms.Resize((28,28)),transforms.ToTensor(),transforms.Normalize((0.5,),(0.5,))])\n",
        "# Datasets are taken from the MNIST dataset\n",
        "train_data=datasets.MNIST(root='./imgdata',train=True,download=True,transform=transforms)\n",
        "validation_data=datasets.MNIST(root='./imgdata',train=False,download=True,transform=transforms)\n",
        "# laoding the datasets batch wise for each epoch\n",
        "train_load=torch.utils.data.DataLoader(dataset=train_data,batch_size=100,shuffle=True) #to avoid the Local Minimum\n",
        "validation_load=torch.utils.data.DataLoader(dataset=validation_data,batch_size=100,shuffle=False)"
      ],
      "execution_count": 0,
      "outputs": []
    },
    {
      "cell_type": "code",
      "metadata": {
        "id": "blPE8fueWWew",
        "colab_type": "code",
        "colab": {}
      },
      "source": [
        "# Now to plot the graph covert back into Tensor\n",
        "\n",
        "def img_convert(tensor):\n",
        "#   first cloning and coverting into numpy array\n",
        "  image=tensor.clone().detach().numpy()\n",
        "#   changing dimensions from 1,28,28 to 28,28,1\n",
        "  image=image.transpose(1,2,0)  \n",
        "#   deNormalizing it by multiplying with sd and adding mean\n",
        "  image=image*np.array((0.5,0.5,0.5))+np.array((0.5,0.5,0.5))\n",
        "#   changing the range from 0 to 1\n",
        "  image=image.clip(0,1)\n",
        "  return image"
      ],
      "execution_count": 0,
      "outputs": []
    },
    {
      "cell_type": "code",
      "metadata": {
        "id": "rcpxbOU8ZPm3",
        "colab_type": "code",
        "outputId": "512f023d-6055-4952-e68c-76ba3ece1cef",
        "colab": {
          "base_uri": "https://localhost:8080/",
          "height": 288
        }
      },
      "source": [
        "\n",
        "dataiter=iter(train_load)\n",
        "images,labels = dataiter.next() #loads 100 batchsize of data for every iteration\n",
        "main=plt.figure(figsize=(25,4))\n",
        "\n",
        "\n",
        "for index in np.arange(20):\n",
        "  ax=main.add_subplot(2,10,index+1,xticks=[], yticks=[])\n",
        "  plt.imshow(img_convert(images[index]))\n",
        "  ax.set_title([labels[index].item()])\n",
        "  \n",
        "  "
      ],
      "execution_count": 5,
      "outputs": [
        {
          "output_type": "display_data",
          "data": {
            "image/png": "[encoded data removed]",
            "text/plain": [
              "<Figure size 1800x288 with 20 Axes>"
            ]
          },
          "metadata": {
            "tags": []
          }
        }
      ]
    },
    {
      "cell_type": "code",
      "metadata": {
        "id": "-vp22ajOa126",
        "colab_type": "code",
        "colab": {}
      },
      "source": [
        "class MultiClassifier(nn.Module):\n",
        "  def __init__(self,data_in,H1,H2,data_out):\n",
        "    super().__init__()\n",
        "    self.linear1=nn.Linear(data_in,H1)\n",
        "    self.linear2=nn.Linear(H1,H2)\n",
        "    self.linear3=nn.Linear(H2,data_out)\n",
        "  def forward(self,x):\n",
        "    x=F.relu(self.linear1(x))\n",
        "    x=F.relu(self.linear2(x))\n",
        "    x=self.linear3(x)\n",
        "    return x\n",
        "  \n",
        "    "
      ],
      "execution_count": 0,
      "outputs": []
    },
    {
      "cell_type": "code",
      "metadata": {
        "id": "YbLvitYvtj06",
        "colab_type": "code",
        "colab": {}
      },
      "source": [
        "obj=MultiClassifier(784,125,65,10)\n"
      ],
      "execution_count": 0,
      "outputs": []
    },
    {
      "cell_type": "code",
      "metadata": {
        "id": "PytuELYetwpM",
        "colab_type": "code",
        "colab": {}
      },
      "source": [
        "criterion=nn.CrossEntropyLoss()\n",
        "optimizer=torch.optim.Adam(obj.parameters(),lr=0.0001)"
      ],
      "execution_count": 0,
      "outputs": []
    },
    {
      "cell_type": "code",
      "metadata": {
        "id": "pI1dFlauubbj",
        "colab_type": "code",
        "outputId": "5c5aaaa5-07a3-4a68-cf24-d2b2539fa8cc",
        "colab": {
          "base_uri": "https://localhost:8080/",
          "height": 782
        }
      },
      "source": [
        "epochs=15\n",
        "\n",
        "train_loss=[]\n",
        "train_accuracy=[]\n",
        "validation_loss=[]\n",
        "validation_accuracy=[]\n",
        "for ite in range(epochs):\n",
        "  epoch_loss=0\n",
        "  epoch_accuracy=0\n",
        "  batch_loss=0\n",
        "  batch_accuracy=0\n",
        "  \n",
        "#   validation constraints\n",
        "  epoch_val_loss=0\n",
        "  epoch_val_accuracy=0\n",
        "  batch_val_accuracy=0\n",
        "  batch_val_loss=0\n",
        "\n",
        "  for images, labels in train_load:\n",
        "    images=images.view(images.shape[0],-1)\n",
        "    results=obj(images)\n",
        "    loss=criterion(results,labels)\n",
        "    optimizer.zero_grad()\n",
        "    loss.backward()\n",
        "    optimizer.step()\n",
        "    batch_loss+=loss.item() \n",
        "    _,preds=torch.max(results,1)\n",
        "    batch_accuracy+=torch.sum(preds==labels.data)\n",
        "    \n",
        "    \n",
        "  else:\n",
        "    for val_img, val_lab in validation_load:\n",
        "      val_img=val_img.view(val_img.shape[0],-1)\n",
        "      val_results=obj(val_img)\n",
        "      val_loss=criterion(val_results,val_lab)\n",
        "      \n",
        "      batch_val_loss+=val_loss.item() \n",
        "      _,val_preds=torch.max(val_results,1)\n",
        "      batch_val_accuracy+=torch.sum(val_preds==val_lab.data)\n",
        "    \n",
        "      \n",
        "      \n",
        "    epoch_val_loss=batch_val_loss/len(validation_load)\n",
        "    validation_loss.append(epoch_val_loss)\n",
        "    epoch_val_accuracy=batch_val_accuracy.float()/len(validation_load)\n",
        "    validation_accuracy.append(epoch_val_accuracy)\n",
        "    \n",
        "      \n",
        "    epoch_loss=batch_loss/len(train_load)\n",
        "    train_loss.append(epoch_loss)\n",
        "    epoch_accuracy=batch_accuracy.float()/len(train_load)\n",
        "    train_accuracy.append(epoch_accuracy)\n",
        "    \n",
        "    print('Present Epoch:',ite)\n",
        "    print('Validation Loss: {:.4f}, Validation Accuracy: {:.4f}'.format(epoch_val_loss,epoch_val_accuracy.item()))\n",
        "    print('Training Loss: {:.4f}, Training Accuracy: {:.4f}'.format(epoch_loss,epoch_accuracy.item()))\n",
        "    "
      ],
      "execution_count": 9,
      "outputs": [
        {
          "output_type": "stream",
          "text": [
            "Present Epoch: 0\n",
            "Validation Loss: 0.4212, Validation Accuracy: 88.8600\n",
            "Training Loss: 0.9419, Training Accuracy: 78.1667\n",
            "Present Epoch: 1\n",
            "Validation Loss: 0.3190, Validation Accuracy: 90.8300\n",
            "Training Loss: 0.3770, Training Accuracy: 89.4267\n",
            "Present Epoch: 2\n",
            "Validation Loss: 0.2867, Validation Accuracy: 91.7100\n",
            "Training Loss: 0.3130, Training Accuracy: 91.0817\n",
            "Present Epoch: 3\n",
            "Validation Loss: 0.2542, Validation Accuracy: 92.6900\n",
            "Training Loss: 0.2785, Training Accuracy: 91.9717\n",
            "Present Epoch: 4\n",
            "Validation Loss: 0.2328, Validation Accuracy: 93.4100\n",
            "Training Loss: 0.2522, Training Accuracy: 92.7567\n",
            "Present Epoch: 5\n",
            "Validation Loss: 0.2148, Validation Accuracy: 93.6900\n",
            "Training Loss: 0.2315, Training Accuracy: 93.3767\n",
            "Present Epoch: 6\n",
            "Validation Loss: 0.2011, Validation Accuracy: 94.0300\n",
            "Training Loss: 0.2138, Training Accuracy: 93.9200\n",
            "Present Epoch: 7\n",
            "Validation Loss: 0.1838, Validation Accuracy: 94.5900\n",
            "Training Loss: 0.1975, Training Accuracy: 94.3217\n",
            "Present Epoch: 8\n",
            "Validation Loss: 0.1787, Validation Accuracy: 94.7600\n",
            "Training Loss: 0.1850, Training Accuracy: 94.6367\n",
            "Present Epoch: 9\n",
            "Validation Loss: 0.1699, Validation Accuracy: 95.1400\n",
            "Training Loss: 0.1735, Training Accuracy: 94.9500\n",
            "Present Epoch: 10\n",
            "Validation Loss: 0.1576, Validation Accuracy: 95.3000\n",
            "Training Loss: 0.1630, Training Accuracy: 95.2917\n",
            "Present Epoch: 11\n",
            "Validation Loss: 0.1470, Validation Accuracy: 95.5300\n",
            "Training Loss: 0.1547, Training Accuracy: 95.4767\n",
            "Present Epoch: 12\n",
            "Validation Loss: 0.1420, Validation Accuracy: 95.7200\n",
            "Training Loss: 0.1462, Training Accuracy: 95.7833\n",
            "Present Epoch: 13\n",
            "Validation Loss: 0.1362, Validation Accuracy: 95.9600\n",
            "Training Loss: 0.1391, Training Accuracy: 95.9933\n",
            "Present Epoch: 14\n",
            "Validation Loss: 0.1371, Validation Accuracy: 95.9300\n",
            "Training Loss: 0.1318, Training Accuracy: 96.1767\n"
          ],
          "name": "stdout"
        }
      ]
    },
    {
      "cell_type": "code",
      "metadata": {
        "id": "Ct1QFUf1ysfc",
        "colab_type": "code",
        "colab": {
          "base_uri": "https://localhost:8080/",
          "height": 286
        },
        "outputId": "64589f1e-f09b-4325-83b4-bfca63437510"
      },
      "source": [
        "plt.plot(validation_loss,label='validation_loss')\n",
        "plt.plot(train_loss,label='Training_loss')\n",
        "plt.legend()"
      ],
      "execution_count": 10,
      "outputs": [
        {
          "output_type": "execute_result",
          "data": {
            "text/plain": [
              "<matplotlib.legend.Legend at 0x7fefc0db86d8>"
            ]
          },
          "metadata": {
            "tags": []
          },
          "execution_count": 10
        },
        {
          "output_type": "display_data",
          "data": {
            "image/png": "[encoded data removed]",
            "text/plain": [
              "<Figure size 432x288 with 1 Axes>"
            ]
          },
          "metadata": {
            "tags": []
          }
        }
      ]
    },
    {
      "cell_type": "code",
      "metadata": {
        "id": "EiPbLUh_TPGa",
        "colab_type": "code",
        "colab": {
          "base_uri": "https://localhost:8080/",
          "height": 286
        },
        "outputId": "22c6aeea-6122-45ef-d12f-4259714ea2f7"
      },
      "source": [
        "plt.plot(validation_accuracy,label='validation_Accuracy')\n",
        "plt.plot(train_accuracy,label='Training_Accuracy')\n",
        "plt.legend()"
      ],
      "execution_count": 11,
      "outputs": [
        {
          "output_type": "execute_result",
          "data": {
            "text/plain": [
              "<matplotlib.legend.Legend at 0x7fefc0d875f8>"
            ]
          },
          "metadata": {
            "tags": []
          },
          "execution_count": 11
        },
        {
          "output_type": "display_data",
          "data": {
            "image/png": "[encoded data removed]",
            "text/plain": [
              "<Figure size 432x288 with 1 Axes>"
            ]
          },
          "metadata": {
            "tags": []
          }
        }
      ]
    },
    {
      "cell_type": "code",
      "metadata": {
        "id": "gF_3S9ppUDTp",
        "colab_type": "code",
        "colab": {
          "base_uri": "https://localhost:8080/",
          "height": 34
        },
        "outputId": "fa3f40d9-606a-40e4-88ed-150add3e74f4"
      },
      "source": [
        "print(type(validation_load))"
      ],
      "execution_count": 19,
      "outputs": [
        {
          "output_type": "stream",
          "text": [
            "<class 'torch.utils.data.dataloader.DataLoader'>\n"
          ],
          "name": "stdout"
        }
      ]
    },
    {
      "cell_type": "code",
      "metadata": {
        "id": "0ouZOY9iZvmF",
        "colab_type": "code",
        "colab": {}
      },
      "source": [
        "import PIL.ImageOps"
      ],
      "execution_count": 0,
      "outputs": []
    },
    {
      "cell_type": "code",
      "metadata": {
        "id": "DZyrgHU6ZIIC",
        "colab_type": "code",
        "colab": {
          "base_uri": "https://localhost:8080/",
          "height": 286
        },
        "outputId": "ae59d50a-d3c2-4c24-bc22-25383ee86ac5"
      },
      "source": [
        "import requests\n",
        "from PIL import Image\n",
        "\n",
        "url = 'https://images.homedepot-static.com/productImages/007164ea-d47e-4f66-8d8c-fd9f621984a2/svn/architectural-mailboxes-house-letters-numbers-3585b-5-64_1000.jpg'\n",
        "response = requests.get(url, stream = True)\n",
        "img = Image.open(response.raw)\n",
        "plt.imshow(img)"
      ],
      "execution_count": 14,
      "outputs": [
        {
          "output_type": "execute_result",
          "data": {
            "text/plain": [
              "<matplotlib.image.AxesImage at 0x7fefc0c18320>"
            ]
          },
          "metadata": {
            "tags": []
          },
          "execution_count": 14
        },
        {
          "output_type": "display_data",
          "data": {
            "image/png": "[encoded data removed]",
            "text/plain": [
              "<Figure size 432x288 with 1 Axes>"
            ]
          },
          "metadata": {
            "tags": []
          }
        }
      ]
    },
    {
      "cell_type": "code",
      "metadata": {
        "id": "wOTfdt8laDs4",
        "colab_type": "code",
        "colab": {
          "base_uri": "https://localhost:8080/",
          "height": 286
        },
        "outputId": "bd6c3e3b-a6e1-40f7-8ebc-7644d4c4fad7"
      },
      "source": [
        "# data preprocessing \n",
        "# 1->Invert the colors of the image\n",
        "img=PIL.ImageOps.invert(img)\n",
        "# convert the image into binary color (0,1)\n",
        "img=img.convert('1')\n",
        "img=transforms(img)\n",
        "plt.imshow(img_convert(img))\n"
      ],
      "execution_count": 15,
      "outputs": [
        {
          "output_type": "execute_result",
          "data": {
            "text/plain": [
              "<matplotlib.image.AxesImage at 0x7fefbf789780>"
            ]
          },
          "metadata": {
            "tags": []
          },
          "execution_count": 15
        },
        {
          "output_type": "display_data",
          "data": {
            "image/png": "[encoded data removed]",
            "text/plain": [
              "<Figure size 432x288 with 1 Axes>"
            ]
          },
          "metadata": {
            "tags": []
          }
        }
      ]
    },
    {
      "cell_type": "code",
      "metadata": {
        "id": "3xNUdpcYcAv9",
        "colab_type": "code",
        "colab": {
          "base_uri": "https://localhost:8080/",
          "height": 34
        },
        "outputId": "b6830870-82f5-4cb6-929a-949dc0a88fdb"
      },
      "source": [
        "img=img.view(img.shape[0],-1)\n",
        "result=obj(img)\n",
        "_,preds=torch.max(result,1)\n",
        "print(preds.item())"
      ],
      "execution_count": 26,
      "outputs": [
        {
          "output_type": "stream",
          "text": [
            "5\n"
          ],
          "name": "stdout"
        }
      ]
    },
    {
      "cell_type": "code",
      "metadata": {
        "id": "4kHANCLAc2cP",
        "colab_type": "code",
        "colab": {
          "base_uri": "https://localhost:8080/",
          "height": 288
        },
        "outputId": "fe326850-72c3-4756-c70a-6f87270d7169"
      },
      "source": [
        "dataiter=iter(validation_load)\n",
        "images,labels = dataiter.next() #loads 100 batchsize of data for every iteration\n",
        "images_=images.view(images.shape[0],-1)\n",
        "results=obj(images_)\n",
        "_,predics=torch.max(results,1)\n",
        "main=plt.figure(figsize=(25,4))\n",
        "for index in np.arange(20):\n",
        "  ax=main.add_subplot(2,10,index+1,xticks=[], yticks=[])\n",
        "  plt.imshow(img_convert(images[index]))\n",
        "  ax.set_title('{},{}'.format(str(predics[index].item()),str(labels[index].item())),color=('green'if predics[index]==labels[index] else 'red'))"
      ],
      "execution_count": 31,
      "outputs": [
        {
          "output_type": "display_data",
          "data": {
            "image/png": "[encoded data removed]",
            "text/plain": [
              "<Figure size 1800x288 with 20 Axes>"
            ]
          },
          "metadata": {
            "tags": []
          }
        }
      ]
    },
    {
      "cell_type": "code",
      "metadata": {
        "id": "Y5KoC47Oe7rG",
        "colab_type": "code",
        "colab": {}
      },
      "source": [
        "# dataiter = iter(validation_load)\n",
        "# images, labels = dataiter.next()\n",
        "# images_ = images.view(images.shape[0], -1)\n",
        "# output = obj(images_)\n",
        "# _, preds = torch.max(output, 1)\n",
        "\n",
        "# fig = plt.figure(figsize=(25, 4))\n",
        "\n",
        "# for idx in np.arange(20):\n",
        "#   ax = fig.add_subplot(2, 10, idx+1, xticks=[], yticks=[])\n",
        "#   plt.imshow(img_convert(images[idx]))\n",
        "#   ax.set_title(\"{} ({})\".format(str(preds[idx].item()), str(labels[idx].item())), color=(\"green\" if preds[idx]==labels[idx] else \"red\"))"
      ],
      "execution_count": 0,
      "outputs": []
    },
    {
      "cell_type": "code",
      "metadata": {
        "id": "CCs8TiiDj3JA",
        "colab_type": "code",
        "colab": {}
      },
      "source": [
        ""
      ],
      "execution_count": 0,
      "outputs": []
    }
  ]
}